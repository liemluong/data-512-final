{
 "cells": [
  {
   "cell_type": "markdown",
   "metadata": {},
   "source": [
    "C4 policy and H6 policy pivot matrix in percentage distribution"
   ]
  },
  {
   "cell_type": "markdown",
   "metadata": {},
   "source": [
    "<div class=\"alert alert-block alert-info\">\n",
    "<b>EDA - Distribution table</b></div>"
   ]
  },
  {
   "cell_type": "code",
   "execution_count": null,
   "metadata": {},
   "outputs": [],
   "source": [
    "pivot_C6_H6 = pd.crosstab(df['C6_Stay at home requirements'], columns = df['H6_Facial Coverings'])\n",
    "\n",
    "(pivot_C6_H6 / pivot_C6_H6.sum())*100"
   ]
  },
  {
   "cell_type": "markdown",
   "metadata": {},
   "source": [
    "<div class=\"alert alert-block alert-success\">  \n",
    "<b>Comment 1:</b> \n",
    "\n",
    "<li>For the first eleven months of 2020, around __58%__ of governments enforced policy on restrictions of gathering for group less than 100 people.</li>\n",
    "<li>About __one third__ of the restriction on gatherings limit of 10 people or less</li></div>"
   ]
  },
  {
   "cell_type": "code",
   "execution_count": null,
   "metadata": {},
   "outputs": [],
   "source": [
    "C6 = df['C6_Stay at home requirements'].value_counts()\n",
    "\n",
    "(C6 / C6.sum())*100"
   ]
  }
 ],
 "metadata": {
  "kernelspec": {
   "display_name": "Python 3",
   "language": "python",
   "name": "python3"
  },
  "language_info": {
   "codemirror_mode": {
    "name": "ipython",
    "version": 3
   },
   "file_extension": ".py",
   "mimetype": "text/x-python",
   "name": "python",
   "nbconvert_exporter": "python",
   "pygments_lexer": "ipython3",
   "version": "3.8.3"
  }
 },
 "nbformat": 4,
 "nbformat_minor": 4
}
