{
 "cells": [
  {
   "cell_type": "markdown",
   "metadata": {},
   "source": [
    "### University of Washington\n",
    "### Autumn 2020\n",
    "### Liem Luong"
   ]
  },
  {
   "cell_type": "markdown",
   "metadata": {},
   "source": [
    "---------------------------------------------------"
   ]
  },
  {
   "cell_type": "markdown",
   "metadata": {},
   "source": [
    "## COVID-19, its impact and the government policy response"
   ]
  },
  {
   "cell_type": "markdown",
   "metadata": {},
   "source": [
    "### Motivation and problem statement:\n",
    "COVID-19 is surely the most search keyword on the internet currently and the most talked topic in the news in 2020. The impact of the coronavirus can be seen everywhere. This is considered the most casualty pandemic in humankind. It touches every corner of the world: people, economy, government, school, and travel.  \n",
    "\n",
    "My motivation to choose this topic is simple: learning something from the past can be helpful for dealing with the future problems. Considering this analysis, I hope it will be a small contribution to the human knowledge. Most importantly, something for the future readers to look back to be well-equipped for future pandemics.\n",
    "\n",
    "We are living in a connected world. Each of us play an important role in fighting the COVID together. Tracking the total coronavirus cases daily is important. However, I want to explore the relationship of the current pandemic and the government policy responses in our connected world. That can potentially provide an interesting story of how effective our policy in handling this crisis. Eventually, it benefits the people from human center perspective.\n"
   ]
  },
  {
   "cell_type": "markdown",
   "metadata": {},
   "source": [
    "### Data selected for analysis:\n",
    "The dataset I plan to use is the Oxford COVID-19 Government Response Tracker (OxCGRT) because this dataset systematically collects information on several different common policy response to the pandemic on 18 indicators from governments (more than 180 countries) around since January 1, 2020. It provides a comprehensive views from many countries which is suitable for me to compare between government policies. The data also tracks the number of cases and number of death for each countries around the world. Therefore, it is a suitable for performing analysis of the government policies.\n",
    "\n",
    "OxCGRT collects publicly available information on 18 indicators of government responses. Eight of the policy indicators (C1-C8) record information on containment and closure policies, such as school closures and restrictions in movement. Four of the indicators (E1-E4) record economic policies, such as income support to citizens or provision of foreign aid. Six of the indicators (H1-H6) record health system policies such as the COVID-19 testing regime or emergency investments into healthcare. \n",
    "\n",
    "The data from the 18 indicators is aggregated into a set of four common indices, reporting a number between 1 and 100 to reflect the level of government action on the topics in question:\n",
    "1.\tAn overall government response index (which records how the response of governments has varied over all indicators in the database, becoming stronger or weaker over the course of the outbreak);\n",
    "2.\tA containment and health index (which combines ‘lockdown’ restrictions and closures with measures such as testing policy and contact tracing, short term investment in healthcare, as well investments in vaccine)\n",
    "3.\tAn economic support index (which records measures such as income support and debt relief)\n",
    "4.\tThe original stringency index (which records the strictness of ‘lockdown style’ policies that primarily restrict people’s behaviour).\n",
    "\n",
    "\n",
    "The dataset contains the indicators in four groups. For the purpose of this analysis, we concentrate on the relationship of containment & closure policies and health system policies.\n",
    "\n",
    "\n",
    "\n",
    "__About Oxford COVID-19 Government Response Tracker:__\n",
    "https://www.bsg.ox.ac.uk/research/research-projects/coronavirus-government-response-tracker\n",
    "\n",
    "\n",
    "\n",
    "__Dataset:__\n",
    "https://raw.githubusercontent.com/OxCGRT/covid-policy-tracker/master/data/OxCGRT_latest.csv\n",
    "\n",
    "\n",
    "\n",
    "\n",
    "__Data use policy:__ \n",
    "Creative Commons Attribution CC BY standard. This data is provided free of charge. \n",
    "\n",
    "\n",
    "\n",
    "__Recommended citation:__\n",
    "Thomas Hale, Tilbe Atav, Laura Hallas, Beatriz Kira, Toby Phillips, Anna Petherick, Annalena Pott. Variation in US states’ responses to COVID-19. Blavatnik School of Government."
   ]
  },
  {
   "cell_type": "markdown",
   "metadata": {},
   "source": [
    "### Unknowns and dependencies:\n",
    "This is an ongoing data collection of live data around the world. Every country has different reporting structure, therefore, not all countries have the same updates on the same pace. Where there are delays, the dataset reflects the missing data respectively.\n",
    "\n",
    "This dataset is updated daily by a great team of contribution from people around the world. Our world changes rapidly as well as data throughout this crisis, there is a chance of inaccuracies in the underlying data. This will be corrected when report. "
   ]
  },
  {
   "cell_type": "markdown",
   "metadata": {},
   "source": [
    "### Research Question and/or Hypothesis:\n",
    "Before conducting this research, it is best to share the question and hypothesis that I want to find out up front. This is expecially important because we dont want to come up with the question and hypothesis after we perform the analysis. That will cause the bias by trying to force the answers to match with the analysis result.\n",
    "\n",
    "Below is my initial research question that i want to find out. Also, below is the hypothesis i want to confirm if it is true or not in the end.  \n",
    "\n",
    "#### Research Question\n",
    "What is the impact of the combination of government policies on the COVID confirmed cases around the world?\n",
    "\n",
    "#### Hypothesis\n",
    "Containment and closure policies (travel restriction, school closing, restrict public gathering) may help to contain the COVID spreading cases better than health policies (contact tracing and facial covering)"
   ]
  },
  {
   "cell_type": "markdown",
   "metadata": {},
   "source": [
    "### Background and/or Related Work:\n",
    "Many recommendations from the scientists and researchers in the past few months highlighted the importance of wearing a mask (facial covering). If people wears mask and practice social distance, it can save a hundred thousand lives. \n",
    "\n",
    "Below is the source: https://www.cnn.com/2020/10/23/health/masks-ihme-model-study-wellness/index.html\n",
    "\n",
    "- _\"If 95% of Americans wore masks in public, more than 100,000 lives could be saved from Covid-19 through February, a new modeling study suggests. The study -- from the Covid-19 forecasting team at the University of Washington's Institute for Health Metrics and Evaluation -- notes that, in September, only about 49% of US residents reported that they \"always\" wear a mask in public.If mask-wearing is 49% through February and states continue with removing social distancing mandates, the Covid-19 death toll across the United States could reach about 1 million deaths by February 28, according to the study, published in the journal Nature Medicine on Friday.\"_\n",
    "\n",
    "This stimulates my desire and motivation to perform this study. I want to understand the benefit of following these recommendations toward preventing COVID.  "
   ]
  },
  {
   "cell_type": "markdown",
   "metadata": {},
   "source": [
    "### Methodology:\n",
    "The advantage of this dataset is that it is comprehensive. It contains 18 government policy indicators from 180 countries. The data covers the period from January 1st, 2020 up to today. This data is updated daily. This richness of data is suitable for exploration in quest of relationship.\n",
    "\n",
    "My approach focuses on the containment closure policy and the health policy. Therefore, exploration data analysis (EDA) would be conducted on these indicators in connecting with the COVID confirmed cases across many selected countries from January 1st 2020 to October 31, 2020.\n",
    "\n",
    "From the EDA, it unlocks the insight and provides a better idea of which indicators yield the most impact to confirmed cases (answer the hypothesis). This will also help us to compare the effectiveness of these policies.\n",
    "\n",
    "Also, time series data analysis is another method to evaluate the performance and effectiness between countries. Even though there are 180 countries covered in the dataset, it is not practical to perform the analysis for all 180 countries. Many small countries does not have a good coverage. Therefore, a selected of major countries are chosen for this analysis.  "
   ]
  },
  {
   "cell_type": "code",
   "execution_count": null,
   "metadata": {},
   "outputs": [],
   "source": []
  }
 ],
 "metadata": {
  "kernelspec": {
   "display_name": "Python 3",
   "language": "python",
   "name": "python3"
  },
  "language_info": {
   "codemirror_mode": {
    "name": "ipython",
    "version": 3
   },
   "file_extension": ".py",
   "mimetype": "text/x-python",
   "name": "python",
   "nbconvert_exporter": "python",
   "pygments_lexer": "ipython3",
   "version": "3.8.3"
  }
 },
 "nbformat": 4,
 "nbformat_minor": 4
}
